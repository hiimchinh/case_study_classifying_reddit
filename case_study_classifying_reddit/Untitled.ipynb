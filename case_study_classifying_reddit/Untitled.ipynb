{
 "cells": [
  {
   "cell_type": "code",
   "execution_count": 3,
   "id": "3bf956a9",
   "metadata": {},
   "outputs": [],
   "source": [
    "import nltk"
   ]
  },
  {
   "cell_type": "code",
   "execution_count": 4,
   "outputs": [
    {
     "name": "stdout",
     "output_type": "stream",
     "text": [
      "showing info https://raw.githubusercontent.com/nltk/nltk_data/gh-pages/index.xml\n"
     ]
    },
    {
     "data": {
      "text/plain": "True"
     },
     "execution_count": 4,
     "metadata": {},
     "output_type": "execute_result"
    }
   ],
   "source": [
    "nltk.download()"
   ],
   "metadata": {
    "collapsed": false
   }
  },
  {
   "cell_type": "code",
   "execution_count": 1,
   "outputs": [],
   "source": [
    "import praw\n",
    "import sqlite3"
   ],
   "metadata": {
    "collapsed": false
   }
  },
  {
   "cell_type": "code",
   "execution_count": 3,
   "outputs": [
    {
     "ename": "MissingRequiredAttributeException",
     "evalue": "Required configuration setting 'client_id' missing. \nThis setting can be provided in a praw.ini file, as a keyword argument to the Reddit class constructor, or as an environment variable.",
     "output_type": "error",
     "traceback": [
      "\u001B[1;31m---------------------------------------------------------------------------\u001B[0m",
      "\u001B[1;31mMissingRequiredAttributeException\u001B[0m         Traceback (most recent call last)",
      "Input \u001B[1;32mIn [3]\u001B[0m, in \u001B[0;36m<cell line: 13>\u001B[1;34m()\u001B[0m\n\u001B[0;32m      8\u001B[0m c\u001B[38;5;241m.\u001B[39mexecute(\u001B[38;5;124m'''\u001B[39m\u001B[38;5;124mCREATE TABLE comments\u001B[39m\n\u001B[0;32m      9\u001B[0m \u001B[38;5;124m(commentText text, commentID text ,\u001B[39m\n\u001B[0;32m     10\u001B[0m \u001B[38;5;124mtopicTitle text, topicText text, topicID text ,\u001B[39m\n\u001B[0;32m     11\u001B[0m \u001B[38;5;124mtopicCategory text)\u001B[39m\u001B[38;5;124m'''\u001B[39m)\n\u001B[0;32m     12\u001B[0m user_agent \u001B[38;5;241m=\u001B[39m \u001B[38;5;124m\"\u001B[39m\u001B[38;5;124mIntroducing Data Science Book\u001B[39m\u001B[38;5;124m\"\u001B[39m\n\u001B[1;32m---> 13\u001B[0m r \u001B[38;5;241m=\u001B[39m \u001B[43mpraw\u001B[49m\u001B[38;5;241;43m.\u001B[39;49m\u001B[43mReddit\u001B[49m\u001B[43m(\u001B[49m\u001B[43muser_agent\u001B[49m\u001B[38;5;241;43m=\u001B[39;49m\u001B[43muser_agent\u001B[49m\u001B[43m)\u001B[49m\n\u001B[0;32m     14\u001B[0m subreddits \u001B[38;5;241m=\u001B[39m [\u001B[38;5;124m'\u001B[39m\u001B[38;5;124mdatascience\u001B[39m\u001B[38;5;124m'\u001B[39m,\u001B[38;5;124m'\u001B[39m\u001B[38;5;124mgameofthrones\u001B[39m\u001B[38;5;124m'\u001B[39m]\n\u001B[0;32m     15\u001B[0m limit \u001B[38;5;241m=\u001B[39m \u001B[38;5;241m1000\u001B[39m\n",
      "File \u001B[1;32m~\\anaconda3\\lib\\site-packages\\praw\\util\\deprecate_args.py:43\u001B[0m, in \u001B[0;36m_deprecate_args.<locals>.wrapper.<locals>.wrapped\u001B[1;34m(*args, **kwargs)\u001B[0m\n\u001B[0;32m     36\u001B[0m     arg_string \u001B[38;5;241m=\u001B[39m _generate_arg_string(_old_args[: \u001B[38;5;28mlen\u001B[39m(args)])\n\u001B[0;32m     37\u001B[0m     warn(\n\u001B[0;32m     38\u001B[0m         \u001B[38;5;124mf\u001B[39m\u001B[38;5;124m\"\u001B[39m\u001B[38;5;124mPositional arguments for \u001B[39m\u001B[38;5;132;01m{\u001B[39;00mfunc\u001B[38;5;241m.\u001B[39m\u001B[38;5;18m__qualname__\u001B[39m\u001B[38;5;132;01m!r}\u001B[39;00m\u001B[38;5;124m will no longer be\u001B[39m\u001B[38;5;124m\"\u001B[39m\n\u001B[0;32m     39\u001B[0m         \u001B[38;5;124mf\u001B[39m\u001B[38;5;124m\"\u001B[39m\u001B[38;5;124m supported in PRAW 8.\u001B[39m\u001B[38;5;130;01m\\n\u001B[39;00m\u001B[38;5;124mCall this function with \u001B[39m\u001B[38;5;132;01m{\u001B[39;00marg_string\u001B[38;5;132;01m}\u001B[39;00m\u001B[38;5;124m.\u001B[39m\u001B[38;5;124m\"\u001B[39m,\n\u001B[0;32m     40\u001B[0m         \u001B[38;5;167;01mDeprecationWarning\u001B[39;00m,\n\u001B[0;32m     41\u001B[0m         stacklevel\u001B[38;5;241m=\u001B[39m\u001B[38;5;241m2\u001B[39m,\n\u001B[0;32m     42\u001B[0m     )\n\u001B[1;32m---> 43\u001B[0m \u001B[38;5;28;01mreturn\u001B[39;00m func(\u001B[38;5;241m*\u001B[39m\u001B[38;5;241m*\u001B[39m\u001B[38;5;28mdict\u001B[39m(\u001B[38;5;28mzip\u001B[39m(_old_args, args)), \u001B[38;5;241m*\u001B[39m\u001B[38;5;241m*\u001B[39mkwargs)\n",
      "File \u001B[1;32m~\\anaconda3\\lib\\site-packages\\praw\\reddit.py:258\u001B[0m, in \u001B[0;36mReddit.__init__\u001B[1;34m(self, site_name, config_interpolation, requestor_class, requestor_kwargs, token_manager, **config_settings)\u001B[0m\n\u001B[0;32m    256\u001B[0m \u001B[38;5;28;01mfor\u001B[39;00m attribute \u001B[38;5;129;01min\u001B[39;00m (\u001B[38;5;124m\"\u001B[39m\u001B[38;5;124mclient_id\u001B[39m\u001B[38;5;124m\"\u001B[39m, \u001B[38;5;124m\"\u001B[39m\u001B[38;5;124muser_agent\u001B[39m\u001B[38;5;124m\"\u001B[39m):\n\u001B[0;32m    257\u001B[0m     \u001B[38;5;28;01mif\u001B[39;00m \u001B[38;5;28mgetattr\u001B[39m(\u001B[38;5;28mself\u001B[39m\u001B[38;5;241m.\u001B[39mconfig, attribute) \u001B[38;5;129;01min\u001B[39;00m (\u001B[38;5;28mself\u001B[39m\u001B[38;5;241m.\u001B[39mconfig\u001B[38;5;241m.\u001B[39mCONFIG_NOT_SET, \u001B[38;5;28;01mNone\u001B[39;00m):\n\u001B[1;32m--> 258\u001B[0m         \u001B[38;5;28;01mraise\u001B[39;00m MissingRequiredAttributeException(\n\u001B[0;32m    259\u001B[0m             required_message\u001B[38;5;241m.\u001B[39mformat(attribute)\n\u001B[0;32m    260\u001B[0m         )\n\u001B[0;32m    261\u001B[0m \u001B[38;5;28;01mif\u001B[39;00m \u001B[38;5;28mself\u001B[39m\u001B[38;5;241m.\u001B[39mconfig\u001B[38;5;241m.\u001B[39mclient_secret \u001B[38;5;129;01mis\u001B[39;00m \u001B[38;5;28mself\u001B[39m\u001B[38;5;241m.\u001B[39mconfig\u001B[38;5;241m.\u001B[39mCONFIG_NOT_SET:\n\u001B[0;32m    262\u001B[0m     \u001B[38;5;28;01mraise\u001B[39;00m MissingRequiredAttributeException(\n\u001B[0;32m    263\u001B[0m         \u001B[38;5;124mf\u001B[39m\u001B[38;5;124m\"\u001B[39m\u001B[38;5;132;01m{\u001B[39;00mrequired_message\u001B[38;5;241m.\u001B[39mformat(\u001B[38;5;124m'\u001B[39m\u001B[38;5;124mclient_secret\u001B[39m\u001B[38;5;124m'\u001B[39m)\u001B[38;5;132;01m}\u001B[39;00m\u001B[38;5;130;01m\\n\u001B[39;00m\u001B[38;5;124mFor installed\u001B[39m\u001B[38;5;124m\"\u001B[39m\n\u001B[0;32m    264\u001B[0m         \u001B[38;5;124m\"\u001B[39m\u001B[38;5;124m applications this value must be set to None via a keyword argument\u001B[39m\u001B[38;5;124m\"\u001B[39m\n\u001B[0;32m    265\u001B[0m         \u001B[38;5;124m\"\u001B[39m\u001B[38;5;124m to the Reddit class constructor.\u001B[39m\u001B[38;5;124m\"\u001B[39m\n\u001B[0;32m    266\u001B[0m     )\n",
      "\u001B[1;31mMissingRequiredAttributeException\u001B[0m: Required configuration setting 'client_id' missing. \nThis setting can be provided in a praw.ini file, as a keyword argument to the Reddit class constructor, or as an environment variable."
     ]
    }
   ],
   "source": [
    "conn = sqlite3.connect('reddit.db')\n",
    "c = conn.cursor()\n",
    "c.execute('''DROP TABLE IF EXISTS topics''')\n",
    "c.execute('''DROP TABLE IF EXISTS comments''')\n",
    "c.execute('''CREATE TABLE topics\n",
    "(topicTitle text, topicText text, topicID text,\n",
    "topicCategory text)''')\n",
    "c.execute('''CREATE TABLE comments\n",
    "(commentText text, commentID text ,\n",
    "topicTitle text, topicText text, topicID text ,\n",
    "topicCategory text)''')\n",
    "user_agent = \"Introducing Data Science Book\"\n",
    "r = praw.Reddit(user_agent=user_agent)\n",
    "subreddits = ['datascience','gameofthrones']\n",
    "limit = 1000"
   ],
   "metadata": {
    "collapsed": false
   }
  },
  {
   "cell_type": "code",
   "execution_count": null,
   "outputs": [],
   "source": [],
   "metadata": {
    "collapsed": false
   }
  }
 ],
 "metadata": {
  "kernelspec": {
   "display_name": "Python 3 (ipykernel)",
   "language": "python",
   "name": "python3"
  },
  "language_info": {
   "codemirror_mode": {
    "name": "ipython",
    "version": 3
   },
   "file_extension": ".py",
   "mimetype": "text/x-python",
   "name": "python",
   "nbconvert_exporter": "python",
   "pygments_lexer": "ipython3",
   "version": "3.9.12"
  }
 },
 "nbformat": 4,
 "nbformat_minor": 5
}
